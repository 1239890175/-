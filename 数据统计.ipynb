{
 "cells": [
  {
   "cell_type": "code",
   "execution_count": 8,
   "metadata": {},
   "outputs": [],
   "source": [
    "\n",
    "# 报价数据统计类\n",
    "import os\n",
    "import pandas as pd\n",
    "import warnings\n",
    "\n",
    "# 忽略所有警告\n",
    "warnings.filterwarnings(\"ignore\")\n",
    "\n",
    "# 或者只忽略特定类型的警告，例如 DeprecationWarning\n",
    "warnings.filterwarnings(\"ignore\", category=DeprecationWarning)\n",
    "\n",
    "# 然后进行您的其他代码操作...\n",
    "class BJDataStatistics:\n",
    "    def __init__(self) -> None:\n",
    "        self.folder_path='./报价数据/'\n",
    "        # 定义个方法获取folder_path目录下的所有目录\n",
    "        self.folder_list=[]\n",
    "        for folder in os.listdir(self.folder_path):\n",
    "            if os.path.isdir(os.path.join(self.folder_path,folder)):\n",
    "                self.folder_list.append(os.path.join(self.folder_path,folder))\n",
    "        self.folder_list.sort(reverse=True)\n",
    "        # folder_list 排序降序       \n",
    "    def folder_table_data_statistics(self, folder: str):\n",
    "        \"\"\"\n",
    "        统计指定文件夹中所有Excel表格的数据\n",
    "\n",
    "        参数:\n",
    "        folder (str): 需要统计表格数据的文件夹路径。\n",
    "\n",
    "        输出:\n",
    "        通过 `print` 函数实时输出读取进度和统计结果。\n",
    "\n",
    "        \"\"\"\n",
    "        df_list = []\n",
    "        total_files = len([f for f in os.listdir(folder) if f.endswith('.xlsx')])\n",
    "        current_file = 1\n",
    "\n",
    "        for file in os.listdir(folder):\n",
    "            if os.path.isfile(os.path.join(folder, file)):\n",
    "                if file.endswith('.xlsx'):\n",
    "                    print(f\"正在读取文件 {current_file}/{total_files}: {file}\")\n",
    "                    try:\n",
    "                        df=pd.read_excel(os.path.join(folder, file))\n",
    "                        df['时间']=file.split('.')[0].split('-')[-1]\n",
    "                        df_list.append(df)\n",
    "                    except Exception as e:\n",
    "                        print(f\"读取文件 {file} 时出错: {e}\")\n",
    "                    current_file += 1\n",
    "\n",
    "        df = pd.concat(df_list)\n",
    "        print(\"\\n数据读取完成，合并后的数据框如下：\")\n",
    "        print(df)\n",
    "        return df\n",
    "        \n",
    "        \n",
    "    #  定义个方法用于选择需要统计的文件夹传入folder_table_data_statistics方法\n",
    "    def select_folder(self):\n",
    "        \"\"\"\n",
    "        选择需要统计的文件夹\n",
    "        \"\"\"\n",
    "        while True:\n",
    "            print(\"-----------------------------\")\n",
    "            print(\"请选择需要统计的文件夹:\")\n",
    "            for i, folder in enumerate(self.folder_list):\n",
    "                print(f\"{i+1}. {folder}\")\n",
    "            choice = input(\"请输入文件夹序号: \")\n",
    "            try:\n",
    "                choice = int(choice)\n",
    "                if 1 <= choice <= len(self.folder_list):\n",
    "                    self.folder_table_data_statistics(self.folder_list[choice-1])\n",
    "                    # return self.folder_list[choice-1]\n",
    "            except ValueError:\n",
    "                print(\"无效的输入，请输入数字。\")\n",
    "        \n",
    "\n",
    "\n",
    "\n",
    "  \n",
    "\n",
    "\n"
   ]
  },
  {
   "cell_type": "code",
   "execution_count": 28,
   "metadata": {},
   "outputs": [
    {
     "name": "stdout",
     "output_type": "stream",
     "text": [
      "['./报价数据/2024年04月20', './报价数据/2024年04月19', './报价数据/2024年04月18']\n",
      "正在读取文件 1/36: 报价数据-20240419231859.xlsx\n",
      "正在读取文件 2/36: 报价数据-20240419221930.xlsx\n",
      "正在读取文件 3/36: 报价数据-20240419230622.xlsx\n",
      "正在读取文件 4/36: 报价数据-20240419230337.xlsx\n",
      "正在读取文件 5/36: 报价数据-20240419232404.xlsx\n",
      "正在读取文件 6/36: 报价数据-20240419221204.xlsx\n",
      "正在读取文件 7/36: 报价数据-20240419223541.xlsx\n",
      "正在读取文件 8/36: 报价数据-20240419222556.xlsx\n",
      "正在读取文件 9/36: 报价数据-20240419220009.xlsx\n",
      "正在读取文件 10/36: 报价数据-20240419221659.xlsx\n",
      "正在读取文件 11/36: 报价数据-20240419225323.xlsx\n",
      "正在读取文件 12/36: 报价数据-20240419231629.xlsx\n",
      "正在读取文件 13/36: 报价数据-20240419222204.xlsx\n",
      "正在读取文件 14/36: 报价数据-20240419224827.xlsx\n",
      "正在读取文件 15/36: 报价数据-20240419230848.xlsx\n",
      "正在读取文件 16/36: 报价数据-20240419232136.xlsx\n",
      "正在读取文件 17/36: 报价数据-20240419221433.xlsx\n",
      "正在读取文件 18/36: 报价数据-20240419232643.xlsx\n",
      "正在读取文件 19/36: 报价数据-20240419225112.xlsx\n",
      "正在读取文件 20/36: 报价数据-20240419224556.xlsx\n",
      "正在读取文件 21/36: 报价数据-20240419230112.xlsx\n",
      "正在读取文件 22/36: 报价数据-20240419223315.xlsx\n"
     ]
    }
   ],
   "source": [
    "BJDS=BJDataStatistics()\n",
    "print(BJDS.folder_list)\n",
    "df=BJDS.folder_table_data_statistics(BJDS.folder_list[1])"
   ]
  },
  {
   "cell_type": "code",
   "execution_count": null,
   "metadata": {},
   "outputs": [
    {
     "name": "stdout",
     "output_type": "stream",
     "text": [
      "                               时刻价格  时间\n",
      "商品编码                                   \n",
      "101000002   20240420000445 25145.70   1\n",
      "101000004    20240420000445 4199.00   1\n",
      "101000008    20240420000445 3999.00   1\n",
      "101000009    20240420000445 3788.00   1\n",
      "101000010    20240420000445 3799.00   1\n",
      "...                             ...  ..\n",
      "1903003638    20240420000445 422.80   1\n",
      "1903003639      20240420000445 暂无报价   1\n",
      "1903003640    20240420000445 331.50   1\n",
      "1903003641      20240420000445 暂无报价   1\n",
      "1903003642     20240420000445 71.40   1\n",
      "\n",
      "[359695 rows x 2 columns]\n"
     ]
    }
   ],
   "source": [
    "df.columns\n",
    "df = df.sort_values(['商品编码', '时间'])\n",
    "df['是否改动'] = ~df['最低价'].eq(df['最低价'].shift())\n",
    "df['时刻价格'] = df['时间'].astype(str) + ' ' + df['最低价'].astype(str)\n",
    "df2 = df[df['是否改动']].groupby('商品编码').agg({'时刻价格': '\\n'.join,'时间':'count'})\n",
    "\n",
    "\n",
    "print(df2)\n",
    "\n"
   ]
  },
  {
   "cell_type": "code",
   "execution_count": null,
   "metadata": {},
   "outputs": [],
   "source": [
    "df2.to_excel('test.xlsx')"
   ]
  },
  {
   "cell_type": "code",
   "execution_count": null,
   "metadata": {},
   "outputs": [],
   "source": []
  }
 ],
 "metadata": {
  "kernelspec": {
   "display_name": "base",
   "language": "python",
   "name": "python3"
  },
  "language_info": {
   "codemirror_mode": {
    "name": "ipython",
    "version": 3
   },
   "file_extension": ".py",
   "mimetype": "text/x-python",
   "name": "python",
   "nbconvert_exporter": "python",
   "pygments_lexer": "ipython3",
   "version": "3.8.5"
  }
 },
 "nbformat": 4,
 "nbformat_minor": 2
}
